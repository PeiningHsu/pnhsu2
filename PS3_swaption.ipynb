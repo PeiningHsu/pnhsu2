{
 "cells": [
  {
   "cell_type": "code",
   "execution_count": 724,
   "metadata": {},
   "outputs": [],
   "source": [
    "import numpy as np\n",
    "import pandas as pd\n",
    "import math\n",
    "from scipy.stats import norm\n",
    "from scipy.optimize import newton"
   ]
  },
  {
   "cell_type": "code",
   "execution_count": 873,
   "metadata": {},
   "outputs": [],
   "source": [
    "def rate(N,T,r0):\n",
    "    R = np.zeros([N+1,N+1])\n",
    "    R[0,0] = r0\n",
    "    delta = T/N\n",
    "    for i in range(1,N+1):\n",
    "        for j in range(0,i+1):\n",
    "            R[j,i] = 0.0225*math.exp(0.45*(2*j-i)*math.sqrt(delta))\n",
    "    return R"
   ]
  },
  {
   "cell_type": "code",
   "execution_count": 874,
   "metadata": {},
   "outputs": [],
   "source": [
    "R = rate(36,3,0.0225)"
   ]
  },
  {
   "cell_type": "code",
   "execution_count": 875,
   "metadata": {},
   "outputs": [],
   "source": [
    "def pi(pi,N,T,R):\n",
    "    p = np.zeros([N+1,N+1])\n",
    "    p[0,0]=1\n",
    "    delta = T/N\n",
    "    for i in range(1, N+1):\n",
    "        p[0,i] = 1/(1+R[0,i-1]*delta)*(1-pi)*p[0,i-1]\n",
    "        for j in range(1,i):\n",
    "            p[j,i] = 1/(1+R[j-1,i-1]*delta)*pi*p[j-1,i-1] + 1/(1+R[j,i-1]*delta)*(1-pi)*p[j,i-1]\n",
    "        p[i,i] = 1/(1+R[i-1,i-1]*delta)*pi*p[i-1,i-1]\n",
    "    return p\n",
    "    "
   ]
  },
  {
   "cell_type": "code",
   "execution_count": 876,
   "metadata": {},
   "outputs": [],
   "source": [
    "PI = pi(0.5,36,3,R)"
   ]
  },
  {
   "cell_type": "code",
   "execution_count": 877,
   "metadata": {},
   "outputs": [],
   "source": [
    "PSvalue = np.sum(PI,axis = 0)"
   ]
  },
  {
   "cell_type": "code",
   "execution_count": 878,
   "metadata": {},
   "outputs": [],
   "source": [
    "interest = [11.25,11.25,12.5,12.5,12.5,13.75]\n",
    "ps = [PSvalue[6],PSvalue[12],PSvalue[18],PSvalue[24],PSvalue[30],PSvalue[36]]"
   ]
  },
  {
   "cell_type": "code",
   "execution_count": 879,
   "metadata": {},
   "outputs": [
    {
     "data": {
      "text/plain": [
       "70.5195420279756"
      ]
     },
     "execution_count": 879,
     "metadata": {},
     "output_type": "execute_result"
    }
   ],
   "source": [
    "bond = sum(np.array(interest)*np.array(ps))+1000*PSvalue[36]\n",
    "bond\n",
    "sum(np.array(interest)*np.array(ps))"
   ]
  },
  {
   "cell_type": "code",
   "execution_count": 907,
   "metadata": {},
   "outputs": [
    {
     "data": {
      "text/plain": [
       "986.2134383721445"
      ]
     },
     "execution_count": 907,
     "metadata": {},
     "output_type": "execute_result"
    }
   ],
   "source": [
    "bond = np.zeros([37,37])\n",
    "bond[:,36] = 1013.75\n",
    "for t in range(35,-1,-1):\n",
    "    for j in range(0,t+1):\n",
    "        if t%6 == 0 and t!=0:\n",
    "            r = rate(36-t,3-t/12,R[j,t])\n",
    "            PI_ = pi(0.5,36-t,3-t/12,r)\n",
    "            PSvalue = np.sum(PI_,axis = 0)\n",
    "            ps = [PSvalue[6*i] for i in range(0,int(6-t/6)+1)]\n",
    "            bond[j,t]=min(1000+interest[int(t/6-1)],0.5*(bond[j,t+1]/(1+R[j,t]*(1/12)))+0.5*(bond[j+1,t+1]/(1+R[j,t]*(1/12)))+interest[int(t/6-1)])\n",
    "        else:\n",
    "            bond[j,t]=0.5*(bond[j,t+1]/(1+R[j,t]*(1/12)))+0.5*(bond[j+1,t+1]/(1+R[j,t]*(1/12)))\n",
    "bond[0,0]\n",
    "\n",
    "        "
   ]
  },
  {
   "cell_type": "code",
   "execution_count": 931,
   "metadata": {},
   "outputs": [
    {
     "data": {
      "text/plain": [
       "array([[ 978.84470814,  987.45912531,  994.00298257, ..., 1006.33517869,\n",
       "        1006.36111649, 1006.38126977],\n",
       "       [  -7.36873023,  973.92859137,  984.19140989, ..., 1006.32150497,\n",
       "        1006.35513756, 1006.38126977],\n",
       "       [  -7.36873023,   -7.36873023,  967.85610442, ..., 1006.30377494,\n",
       "        1006.3473849 , 1006.38126977],\n",
       "       ...,\n",
       "       [  -7.36873023,   -7.36873023,   -7.36873023, ...,  751.52964314,\n",
       "         884.71956916, 1006.38126977],\n",
       "       [  -7.36873023,   -7.36873023,   -7.36873023, ...,   -7.36873023,\n",
       "         854.04871712, 1006.38126977],\n",
       "       [  -7.36873023,   -7.36873023,   -7.36873023, ...,   -7.36873023,\n",
       "          -7.36873023, 1006.38126977]])"
      ]
     },
     "execution_count": 931,
     "metadata": {},
     "output_type": "execute_result"
    }
   ],
   "source": [
    "d = 0\n",
    "for t in [6,12,18,24,30]:\n",
    "    for j in range(0,t+1):\n",
    "        r = rate(36-t,3-t/12,R[j,t])\n",
    "        PI_ = pi(0.5,36-t,3-t/12,r)\n",
    "        PSvalue = np.sum(PI_,axis = 0)\n",
    "        ps = [PSvalue[6*i] for i in range(1,int(6-t/6)+1)]\n",
    "        b = sum(np.array(interest[int(t/6):6])*np.array(ps))+1000*ps[-1]\n",
    "        if b >= 1000:\n",
    "            d = d + (1000-b)*PI[j,t]\n",
    "callablebond = bond+d  \n",
    "callablebond\n"
   ]
  },
  {
   "cell_type": "code",
   "execution_count": 910,
   "metadata": {},
   "outputs": [],
   "source": [
    "def libor(N,T,r0):\n",
    "    R = np.zeros([N+1,N+1])\n",
    "    R[0,0] = r0\n",
    "    delta = T/N\n",
    "    for i in range(1,N+1):\n",
    "        for j in range(0,i+1):\n",
    "            R[j,i] = 0.025*math.exp(0.4*(2*j-i)*math.sqrt(delta))\n",
    "    return R"
   ]
  },
  {
   "cell_type": "code",
   "execution_count": 911,
   "metadata": {},
   "outputs": [],
   "source": [
    "t = libor(60,5,0.025)\n",
    "tree = pd.DataFrame(t).to_excel('Q3_tree.xlsx')\n",
    "ad = pi(0.5,60,5,t)\n",
    "AD = pd.DataFrame(ad).to_excel('Q3_AD.xlsx')\n",
    "psvalue = np.sum(ad, axis = 0)\n"
   ]
  },
  {
   "cell_type": "code",
   "execution_count": 929,
   "metadata": {},
   "outputs": [
    {
     "name": "stdout",
     "output_type": "stream",
     "text": [
      "[0.0011179531871522523, 0.0018334750020600956, 0.003242789500628622]\n"
     ]
    }
   ],
   "source": [
    "caps = []  #[0.0011179531871522523, 0.0018334750020600956, 0.003242789500628622]\n",
    "for y in [9,21,57]:\n",
    "    caplet = 0\n",
    "    ps = []\n",
    "    pp = np.zeros([3,58])\n",
    "    for s in range(y+1):\n",
    "        p = np.zeros([4,4])\n",
    "        p[:,3]= 1\n",
    "        for i in range(2,-1,-1):\n",
    "            for j in range(0,i+1):\n",
    "                p[j,i] = 0.5*(p[j+1,i+1]/(1+t[s+j,y+i]*(1/12)))+0.5*(p[j,i+1]/(1+t[s+j,y+i]*(1/12)))\n",
    "        caplet = caplet+0.25*max(((1/p[0,0]-1)/(0.25))-0.025,0)*ad[s,y]*p[0,0]\n",
    "    caps.append(caplet)\n",
    "print(caps)"
   ]
  },
  {
   "cell_type": "code",
   "execution_count": 913,
   "metadata": {},
   "outputs": [],
   "source": [
    "forward = []  # [0.026734974120046218, 0.02876654088315611, 0.03423084474447702]\n",
    "for y in [9,21,57]:\n",
    "    forward.append((psvalue[y]/psvalue[y+3]-1)*4)  "
   ]
  },
  {
   "cell_type": "code",
   "execution_count": 915,
   "metadata": {},
   "outputs": [],
   "source": [
    "import scipy as sp\n",
    "import pylab as pl\n",
    "from scipy.optimize import newton\n",
    "def bsfunc(i,y,sigma):\n",
    "    d1 = (math.log(forward[i]/0.025)+0.5*sigma**2*(y/12))/(sigma*math.sqrt(y/12))\n",
    "    d2 = (math.log(forward[i]/0.025)-0.5*sigma**2*(y/12))/(sigma*math.sqrt(y/12))\n",
    "    bscap = psvalue[y+3]*0.25*(forward[i]*norm.cdf(d1)-0.025*norm.cdf(d2))\n",
    "    return bscap\n",
    "\n"
   ]
  },
  {
   "cell_type": "code",
   "execution_count": 916,
   "metadata": {},
   "outputs": [
    {
     "name": "stdout",
     "output_type": "stream",
     "text": [
      "0.4114361803000908\n",
      "0.4041870956017511\n",
      "0.39358478572265543\n"
     ]
    }
   ],
   "source": [
    "\n",
    "for y,i in zip([9,21,57],[0,1,2]):\n",
    "    error = (lambda sigma: bsfunc(i,y,sigma)-caps[i])\n",
    "    sigma = newton(error,0.2,tol = 0.0000000148)\n",
    "    print(sigma)\n",
    "    "
   ]
  },
  {
   "cell_type": "code",
   "execution_count": 917,
   "metadata": {},
   "outputs": [],
   "source": [
    "#m = month, swaption = total month of swaption, swap= total month of swap\n",
    "def CPB(rate,T,N,R,swaption,swap,m,pi):\n",
    "    cpb = np.zeros([swaption+swap+1,swaption+swap+1])\n",
    "    delta = T/N\n",
    "    for j in range(0,swap+swaption+1):\n",
    "        cpb[j,swap+swaption] = 1+rate*delta*m\n",
    "    for i in range(swap+swaption-1,swaption-1,-1):\n",
    "        for j in range(0,i+1):\n",
    "            cpb[j,i] = cpb[j,i+1]/(1+R[j,i]*delta)*(1-pi)+cpb[j+1,i+1]/(1+R[j,i]*delta)*pi\n",
    "            if i%m == 0 and i != swaption:\n",
    "                cpb[j,i] = cpb[j,i]+rate*delta*m\n",
    "    return cpb\n",
    "                \n",
    "    "
   ]
  },
  {
   "cell_type": "code",
   "execution_count": 918,
   "metadata": {},
   "outputs": [],
   "source": [
    "def swaption(CPB, PI, swaption):\n",
    "    s = 0\n",
    "    for j in range(swaption+1):\n",
    "        s = s + max(0, CPB[j,swaption]-1)*PI[j,swaption]\n",
    "    return s"
   ]
  },
  {
   "cell_type": "code",
   "execution_count": 919,
   "metadata": {},
   "outputs": [],
   "source": [
    "cpb = CPB(0.025,5,60,t,36,24,6,0.5)\n",
    "s = swaption(cpb,ad,36)"
   ]
  },
  {
   "cell_type": "code",
   "execution_count": 920,
   "metadata": {},
   "outputs": [
    {
     "data": {
      "text/plain": [
       "0.007800482390803046"
      ]
     },
     "execution_count": 920,
     "metadata": {},
     "output_type": "execute_result"
    }
   ],
   "source": [
    "s"
   ]
  },
  {
   "cell_type": "code",
   "execution_count": 796,
   "metadata": {},
   "outputs": [],
   "source": [
    "pd.DataFrame(cpb).to_excel('Q3-d.xlsx')"
   ]
  },
  {
   "cell_type": "code",
   "execution_count": 836,
   "metadata": {},
   "outputs": [],
   "source": [
    "def swfunc(s,y,sigma):\n",
    "    d1 = (math.log(s/0.025)+0.5*sigma**2*(y/12))/(sigma*math.sqrt(y/12))\n",
    "    d2 = (math.log(s/0.025)-0.5*sigma**2*(y/12))/(sigma*math.sqrt(y/12))\n",
    "    Swaption = 0.5*(psvalue[42]+psvalue[48]+psvalue[54]+psvalue[60])*(0.025*norm.cdf(-d2)-s*norm.cdf(-d1))\n",
    "    return Swaption\n",
    "\n",
    "sw = (psvalue[36]-psvalue[60])/(0.5*(psvalue[42]+psvalue[48]+psvalue[54]+psvalue[60]))"
   ]
  },
  {
   "cell_type": "code",
   "execution_count": 837,
   "metadata": {},
   "outputs": [
    {
     "name": "stdout",
     "output_type": "stream",
     "text": [
      "0.39644893754409666\n"
     ]
    }
   ],
   "source": [
    "error = (lambda sigma: swfunc(sw,36,sigma)-s)\n",
    "sigma = newton(error,0.1,tol = 0.0000000148)\n",
    "print(sigma)"
   ]
  },
  {
   "cell_type": "code",
   "execution_count": 863,
   "metadata": {},
   "outputs": [
    {
     "name": "stdout",
     "output_type": "stream",
     "text": [
      "0.012385259510417232\n"
     ]
    }
   ],
   "source": [
    "Bermudan = 0\n",
    "s = np.zeros([37,37])\n",
    "for i in range(36,-1,-1):\n",
    "    if i == 36:\n",
    "        cpb = CPB(0.025,5,60,t,i,60-i,6,0.5)\n",
    "        for j in range(i+1):\n",
    "            s[j,i] = max(0, cpb[j,i]-1)\n",
    "    elif i%6 == 0 :\n",
    "        cpb = CPB(0.025,5,60,t,i,60-i,6,0.5)\n",
    "        for j in range(i+1):\n",
    "            s[j,i] = max(0.5*s[j,i+1]/(1+t[j,i]*(1/12))+0.5*s[j+1,i+1]/(1+t[j,i]*(1/12)), cpb[j,i]-1)\n",
    "    else:\n",
    "        for j in range(i+1):\n",
    "            s[j,i] = 0.5*s[j,i+1]/(1+t[j,i]*(1/12))+0.5*s[j+1,i+1]/(1+t[j,i]*(1/12))\n",
    "                                                        \n",
    "print(s[0,0])  #ans 0.012385259510417232"
   ]
  }
 ],
 "metadata": {
  "kernelspec": {
   "display_name": "Python 3",
   "language": "python",
   "name": "python3"
  },
  "language_info": {
   "codemirror_mode": {
    "name": "ipython",
    "version": 3
   },
   "file_extension": ".py",
   "mimetype": "text/x-python",
   "name": "python",
   "nbconvert_exporter": "python",
   "pygments_lexer": "ipython3",
   "version": "3.7.1"
  }
 },
 "nbformat": 4,
 "nbformat_minor": 2
}
